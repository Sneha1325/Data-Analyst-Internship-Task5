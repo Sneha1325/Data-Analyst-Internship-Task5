{
 "cells": [
  {
   "cell_type": "markdown",
   "id": "3363d2bf",
   "metadata": {},
   "source": [
    "# Exploratory Data Analysis (Titanic Dataset)"
   ]
  },
  {
   "cell_type": "markdown",
   "id": "1dbecd63",
   "metadata": {},
   "source": [
    "## Importing Libraries & Loading Data"
   ]
  },
  {
   "cell_type": "code",
   "execution_count": null,
   "id": "f870053d",
   "metadata": {},
   "outputs": [],
   "source": [
    "import pandas as pd\n",
    "import seaborn as sns\n",
    "import matplotlib.pyplot as plt\n",
    "\n",
    "# Load dataset\n",
    "df = sns.load_dataset('titanic')\n",
    "df.head()"
   ]
  },
  {
   "cell_type": "markdown",
   "id": "d1bb6e67",
   "metadata": {},
   "source": [
    "## Basic Info and Statistics"
   ]
  },
  {
   "cell_type": "code",
   "execution_count": null,
   "id": "2b49b8d3",
   "metadata": {},
   "outputs": [],
   "source": [
    "df.info()\n",
    "df.describe()"
   ]
  },
  {
   "cell_type": "markdown",
   "id": "24a2e32f",
   "metadata": {},
   "source": [
    "## Checking Missing Values"
   ]
  },
  {
   "cell_type": "code",
   "execution_count": null,
   "id": "dceb3b69",
   "metadata": {},
   "outputs": [],
   "source": [
    "df.isnull().sum()"
   ]
  },
  {
   "cell_type": "markdown",
   "id": "d6003ef7",
   "metadata": {},
   "source": [
    "## Value Counts Example: Gender Distribution"
   ]
  },
  {
   "cell_type": "code",
   "execution_count": null,
   "id": "032df625",
   "metadata": {},
   "outputs": [],
   "source": [
    "df['sex'].value_counts().plot(kind='bar')\n",
    "plt.title('Gender Distribution')\n",
    "plt.show()"
   ]
  },
  {
   "cell_type": "markdown",
   "id": "556ce4e1",
   "metadata": {},
   "source": [
    "## Pairplot for Relationship Visualization"
   ]
  },
  {
   "cell_type": "code",
   "execution_count": null,
   "id": "28fa01e6",
   "metadata": {},
   "outputs": [],
   "source": [
    "sns.pairplot(df[['age', 'fare', 'survived']], hue='survived')\n",
    "plt.show()"
   ]
  },
  {
   "cell_type": "markdown",
   "id": "cc98a607",
   "metadata": {},
   "source": [
    "## Heatmap of Correlations"
   ]
  },
  {
   "cell_type": "code",
   "execution_count": null,
   "id": "fc6cb15c",
   "metadata": {},
   "outputs": [],
   "source": [
    "sns.heatmap(df.corr(numeric_only=True), annot=True)\n",
    "plt.show()"
   ]
  },
  {
   "cell_type": "markdown",
   "id": "e0ab11e5",
   "metadata": {},
   "source": [
    "## Histogram Example"
   ]
  },
  {
   "cell_type": "code",
   "execution_count": null,
   "id": "04f5da59",
   "metadata": {},
   "outputs": [],
   "source": [
    "df['age'].hist(bins=20)\n",
    "plt.title('Age Distribution')\n",
    "plt.xlabel('Age')\n",
    "plt.ylabel('Count')\n",
    "plt.show()"
   ]
  },
  {
   "cell_type": "markdown",
   "id": "c925d07f",
   "metadata": {},
   "source": [
    "## Summary of Observations"
   ]
  },
  {
   "cell_type": "markdown",
   "id": "9d133089",
   "metadata": {},
   "source": [
    "Write insights here based on charts."
   ]
  }
 ],
 "metadata": {},
 "nbformat": 4,
 "nbformat_minor": 5
}
